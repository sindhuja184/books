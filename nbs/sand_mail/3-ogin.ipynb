{
 "cells": [
  {
   "cell_type": "code",
   "execution_count": 1,
   "id": "35122951",
   "metadata": {},
   "outputs": [],
   "source": [
    "import requests\n",
    "\n",
    "base = 'http://localhost:8000'\n",
    "path = '/api/v1/auth/login'\n",
    "\n",
    "end_point = f\"{base}{path}\""
   ]
  },
  {
   "cell_type": "code",
   "execution_count": 2,
   "id": "05d90e63",
   "metadata": {},
   "outputs": [],
   "source": [
    "data = {\n",
    "    \"email\": \"didugusindhuja@mail.com\",\n",
    "    \"password\": \"didugusindhuja\"\n",
    "}"
   ]
  },
  {
   "cell_type": "code",
   "execution_count": 5,
   "id": "b91693bd",
   "metadata": {},
   "outputs": [],
   "source": [
    "response = requests.post(end_point, json = data)"
   ]
  },
  {
   "cell_type": "code",
   "execution_count": 6,
   "id": "c2daec13",
   "metadata": {},
   "outputs": [
    {
     "name": "stdout",
     "output_type": "stream",
     "text": [
      "null\n"
     ]
    }
   ],
   "source": [
    "print(response.text)"
   ]
  },
  {
   "cell_type": "code",
   "execution_count": null,
   "id": "c7bd59ee",
   "metadata": {},
   "outputs": [],
   "source": []
  }
 ],
 "metadata": {
  "kernelspec": {
   "display_name": ".venv",
   "language": "python",
   "name": "python3"
  },
  "language_info": {
   "codemirror_mode": {
    "name": "ipython",
    "version": 3
   },
   "file_extension": ".py",
   "mimetype": "text/x-python",
   "name": "python",
   "nbconvert_exporter": "python",
   "pygments_lexer": "ipython3",
   "version": "3.10.0"
  }
 },
 "nbformat": 4,
 "nbformat_minor": 5
}
