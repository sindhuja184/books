{
 "cells": [
  {
   "cell_type": "code",
   "execution_count": 6,
   "id": "123d80b9",
   "metadata": {},
   "outputs": [],
   "source": [
    "import requests"
   ]
  },
  {
   "cell_type": "code",
   "execution_count": 12,
   "id": "e771ed3e",
   "metadata": {},
   "outputs": [
    {
     "name": "stdout",
     "output_type": "stream",
     "text": [
      "{\"message\":\"Account Creaed!! Check email to verify your account\",\"user\":{\"uid\":\"f5ee6637-8fc0-475c-8b2c-ac384b1e6f20\",\"first_name\":\"Sindhuja\",\"role\":\"user\",\"updated_at\":\"2025-05-16T18:13:18.921907\",\"username\":\"sindhuja\",\"email\":\"didugusindhuja@gmail.com\",\"last_name\":\"Didugu\",\"is_verified\":false,\"created_at\":\"2025-05-16T18:13:18.921907\"}}\n"
     ]
    }
   ],
   "source": [
    "base = 'http://localhost:8000/api/v1/auth/signup'\n",
    "data = {\n",
    "  \"first_name\": \"Sindhuja\",\n",
    "  \"last_name\": \"Didugu\",\n",
    "  \"username\": \"sindhuja\",\n",
    "  \"email\": \"didugusindhuja@gmail.com\",\n",
    "  \"password\": \"didugusindhuja\"\n",
    "}\n",
    "response = requests.post(base, json= data)\n",
    "print(response.text)"
   ]
  },
  {
   "cell_type": "code",
   "execution_count": null,
   "id": "bfdf8cb3",
   "metadata": {},
   "outputs": [],
   "source": []
  }
 ],
 "metadata": {
  "kernelspec": {
   "display_name": ".venv",
   "language": "python",
   "name": "python3"
  },
  "language_info": {
   "codemirror_mode": {
    "name": "ipython",
    "version": 3
   },
   "file_extension": ".py",
   "mimetype": "text/x-python",
   "name": "python",
   "nbconvert_exporter": "python",
   "pygments_lexer": "ipython3",
   "version": "3.10.0"
  }
 },
 "nbformat": 4,
 "nbformat_minor": 5
}
