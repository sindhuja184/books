{
 "cells": [
  {
   "cell_type": "code",
   "execution_count": 1,
   "id": "75b0095c",
   "metadata": {},
   "outputs": [],
   "source": [
    "import requests"
   ]
  },
  {
   "cell_type": "code",
   "execution_count": 7,
   "id": "06d857b9",
   "metadata": {},
   "outputs": [],
   "source": [
    "base = 'http://localhost:8000/api/v1/auth/signup'"
   ]
  },
  {
   "cell_type": "code",
   "execution_count": null,
   "id": "389520d9",
   "metadata": {},
   "outputs": [],
   "source": [
    "data = {\n",
    "  \"first_name\": \"Sindhuja\",\n",
    "  \"last_name\": \"Didugu\",\n",
    "  \"username\": \"sindd\",\n",
    "  \"email\": \"didugusindhuja@gmail.com\",\n",
    "  \"password\": \"didugusindhuja\"\n",
    "}\n"
   ]
  },
  {
   "cell_type": "code",
   "execution_count": 9,
   "id": "1b54d706",
   "metadata": {},
   "outputs": [],
   "source": [
    "response = requests.post(base, json= data)"
   ]
  },
  {
   "cell_type": "code",
   "execution_count": 10,
   "id": "e8bf7471",
   "metadata": {},
   "outputs": [
    {
     "name": "stdout",
     "output_type": "stream",
     "text": [
      "{\"uid\":\"d57f871d-1727-454d-8fda-192bb515e344\",\"username\":\"sindd\",\"email\":\"didugusindhuja@gmail.com\",\"first_name\":\"Sindhuja\",\"last_name\":\"Didugu\",\"is_verified\":false,\"password_hash\":\"$2b$12$iZN0YzfxhFpmj9CIMaDFnOciJgfBEdKuNefDOkEKSDWuwZ.cb4lUy\",\"created_at\":\"2025-05-16T15:13:49.802994\",\"updated_at\":\"2025-05-16T15:13:49.802994\",\"books\":[]}\n"
     ]
    }
   ],
   "source": [
    "print(response.text)"
   ]
  },
  {
   "cell_type": "code",
   "execution_count": null,
   "id": "aa5c94d0",
   "metadata": {},
   "outputs": [],
   "source": []
  }
 ],
 "metadata": {
  "kernelspec": {
   "display_name": ".venv",
   "language": "python",
   "name": "python3"
  },
  "language_info": {
   "codemirror_mode": {
    "name": "ipython",
    "version": 3
   },
   "file_extension": ".py",
   "mimetype": "text/x-python",
   "name": "python",
   "nbconvert_exporter": "python",
   "pygments_lexer": "ipython3",
   "version": "3.10.0"
  }
 },
 "nbformat": 4,
 "nbformat_minor": 5
}
