{
 "cells": [
  {
   "cell_type": "code",
   "execution_count": 2,
   "id": "1ec6f8ba",
   "metadata": {},
   "outputs": [
    {
     "name": "stdout",
     "output_type": "stream",
     "text": [
      "Collecting requests\n",
      "  Using cached requests-2.32.3-py3-none-any.whl.metadata (4.6 kB)\n",
      "Collecting charset-normalizer<4,>=2 (from requests)\n",
      "  Using cached charset_normalizer-3.4.1-cp310-cp310-win_amd64.whl.metadata (36 kB)\n",
      "Requirement already satisfied: idna<4,>=2.5 in c:\\users\\sindh\\onedrive\\desktop\\napindam\\.venv\\lib\\site-packages (from requests) (3.10)\n",
      "Collecting urllib3<3,>=1.21.1 (from requests)\n",
      "  Using cached urllib3-2.4.0-py3-none-any.whl.metadata (6.5 kB)\n",
      "Requirement already satisfied: certifi>=2017.4.17 in c:\\users\\sindh\\onedrive\\desktop\\napindam\\.venv\\lib\\site-packages (from requests) (2025.4.26)\n",
      "Using cached requests-2.32.3-py3-none-any.whl (64 kB)\n",
      "Using cached charset_normalizer-3.4.1-cp310-cp310-win_amd64.whl (102 kB)\n",
      "Using cached urllib3-2.4.0-py3-none-any.whl (128 kB)\n",
      "Installing collected packages: urllib3, charset-normalizer, requests\n",
      "\n",
      "   ---------------------------------------- 0/3 [urllib3]\n",
      "   ---------------------------------------- 0/3 [urllib3]\n",
      "   ---------------------------------------- 0/3 [urllib3]\n",
      "   ---------------------------------------- 0/3 [urllib3]\n",
      "   ---------------------------------------- 0/3 [urllib3]\n",
      "   ---------------------------------------- 0/3 [urllib3]\n",
      "   ---------------------------------------- 0/3 [urllib3]\n",
      "   ---------------------------------------- 0/3 [urllib3]\n",
      "   ------------- -------------------------- 1/3 [charset-normalizer]\n",
      "   ------------- -------------------------- 1/3 [charset-normalizer]\n",
      "   ------------- -------------------------- 1/3 [charset-normalizer]\n",
      "   ------------- -------------------------- 1/3 [charset-normalizer]\n",
      "   -------------------------- ------------- 2/3 [requests]\n",
      "   -------------------------- ------------- 2/3 [requests]\n",
      "   -------------------------- ------------- 2/3 [requests]\n",
      "   ---------------------------------------- 3/3 [requests]\n",
      "\n",
      "Successfully installed charset-normalizer-3.4.1 requests-2.32.3 urllib3-2.4.0\n"
     ]
    }
   ],
   "source": [
    "!pip install requests"
   ]
  },
  {
   "cell_type": "code",
   "execution_count": 10,
   "id": "f9f9ef4d",
   "metadata": {},
   "outputs": [
    {
     "data": {
      "text/plain": [
       "'{\"message\":\"HEllo He age0\"}'"
      ]
     },
     "execution_count": 10,
     "metadata": {},
     "output_type": "execute_result"
    }
   ],
   "source": [
    "import requests\n",
    "\n",
    "base_url = 'http://localhost:8000'\n",
    "path = '/greet/He'\n",
    "\n",
    "end_point = f\"{base_url}{path}\"\n",
    "\n",
    "response = requests.get(end_point)\n",
    "response.text"
   ]
  },
  {
   "cell_type": "code",
   "execution_count": null,
   "id": "db8e8cac",
   "metadata": {},
   "outputs": [],
   "source": []
  }
 ],
 "metadata": {
  "kernelspec": {
   "display_name": ".venv",
   "language": "python",
   "name": "python3"
  },
  "language_info": {
   "codemirror_mode": {
    "name": "ipython",
    "version": 3
   },
   "file_extension": ".py",
   "mimetype": "text/x-python",
   "name": "python",
   "nbconvert_exporter": "python",
   "pygments_lexer": "ipython3",
   "version": "3.10.0"
  }
 },
 "nbformat": 4,
 "nbformat_minor": 5
}
