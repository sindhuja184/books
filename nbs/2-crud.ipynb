{
 "cells": [
  {
   "cell_type": "code",
   "execution_count": 1,
   "id": "5854c82d",
   "metadata": {},
   "outputs": [
    {
     "data": {
      "text/plain": [
       "'http://localhost:8000/books'"
      ]
     },
     "execution_count": 1,
     "metadata": {},
     "output_type": "execute_result"
    }
   ],
   "source": [
    "import requests\n",
    "\n",
    "base_url = 'http://localhost:8000'\n",
    "path = '/books'\n",
    "\n",
    "end_point = f\"{base_url}{path}\"\n",
    "\n",
    "end_point\n"
   ]
  },
  {
   "cell_type": "code",
   "execution_count": 5,
   "id": "406e606c",
   "metadata": {},
   "outputs": [],
   "source": [
    "response = requests.get(end_point)\n"
   ]
  },
  {
   "cell_type": "code",
   "execution_count": 6,
   "id": "58ea33ad",
   "metadata": {},
   "outputs": [
    {
     "name": "stdout",
     "output_type": "stream",
     "text": [
      "('[{\"id\":1,\"title\":\"Harry Potter and the Philosopher\\'s Stone\",\"author\":\"J.K. '\n",
      " 'Rowling\",\"publisher\":\"Bloomsbury\",\"published_date\":\"1997-06-26\",\"page_count\":223,\"language\":\"en\"},{\"id\":2,\"title\":\"The '\n",
      " 'Hobbit\",\"author\":\"J.R.R. Tolkien\",\"publisher\":\"George Allen & '\n",
      " 'Unwin\",\"published_date\":\"1937-09-21\",\"page_count\":310,\"language\":\"en\"},{\"id\":3,\"title\":\"The '\n",
      " 'Alchemist\",\"author\":\"Paulo '\n",
      " 'Coelho\",\"publisher\":\"HarperTorch\",\"published_date\":\"1988-04-15\",\"page_count\":208,\"language\":\"en\"},{\"id\":4,\"title\":\"To '\n",
      " 'Kill a Mockingbird\",\"author\":\"Harper Lee\",\"publisher\":\"J.B. Lippincott & '\n",
      " 'Co.\",\"published_date\":\"1960-07-11\",\"page_count\":281,\"language\":\"en\"},{\"id\":5,\"title\":\"1984\",\"author\":\"George '\n",
      " 'Orwell\",\"publisher\":\"Secker & '\n",
      " 'Warburg\",\"published_date\":\"1949-06-08\",\"page_count\":328,\"language\":\"en\"}]')\n"
     ]
    }
   ],
   "source": [
    "from pprint import pprint\n",
    "pprint(response.text)"
   ]
  },
  {
   "cell_type": "code",
   "execution_count": null,
   "id": "82241f44",
   "metadata": {},
   "outputs": [],
   "source": []
  },
  {
   "cell_type": "markdown",
   "id": "de3fd610",
   "metadata": {},
   "source": [
    "### Post Request"
   ]
  },
  {
   "cell_type": "code",
   "execution_count": 33,
   "id": "3b3707bd",
   "metadata": {},
   "outputs": [],
   "source": [
    "base_url = 'http://localhost:8000'\n",
    "path = '/books'\n",
    "\n",
    "end_point = f\"{base_url}{path}\"\n",
    "\n",
    "\n",
    "book = {\n",
    "    \"id\": 6,\n",
    "    \"title\": \"Pride and Prejudice\",\n",
    "    \"author\": \"Jane Austen\",\n",
    "    \"publisher\": \"T. Egerton, Whitehall\",\n",
    "    \"published_date\": \"1813-01-28\",\n",
    "    \"page_count\": 279,\n",
    "    \"language\": \"en\"\n",
    "}"
   ]
  },
  {
   "cell_type": "code",
   "execution_count": 34,
   "id": "f82cdb92",
   "metadata": {},
   "outputs": [],
   "source": [
    "response = requests.post(end_point, json = book)"
   ]
  },
  {
   "cell_type": "code",
   "execution_count": 35,
   "id": "28f638ab",
   "metadata": {},
   "outputs": [
    {
     "name": "stdout",
     "output_type": "stream",
     "text": [
      "{\"id\":6,\"title\":\"Pride and Prejudice\",\"author\":\"Jane Austen\",\"publisher\":\"T. Egerton, Whitehall\",\"published_date\":\"1813-01-28\",\"page_count\":279,\"language\":\"en\"}\n"
     ]
    }
   ],
   "source": [
    "print(response.text)"
   ]
  },
  {
   "cell_type": "code",
   "execution_count": 10,
   "id": "8f95550e",
   "metadata": {},
   "outputs": [],
   "source": [
    "#GEtting all the books \n",
    "response = requests.get(end_point)\n"
   ]
  },
  {
   "cell_type": "code",
   "execution_count": 12,
   "id": "bc4e7f37",
   "metadata": {},
   "outputs": [
    {
     "name": "stdout",
     "output_type": "stream",
     "text": [
      "[{\"id\":1,\"title\":\"Harry Potter and the Philosopher's Stone\",\"author\":\"J.K. Rowling\",\"publisher\":\"Bloomsbury\",\"published_date\":\"1997-06-26\",\"page_count\":223,\"language\":\"en\"},{\"id\":2,\"title\":\"The Hobbit\",\"author\":\"J.R.R. Tolkien\",\"publisher\":\"George Allen & Unwin\",\"published_date\":\"1937-09-21\",\"page_count\":310,\"language\":\"en\"},{\"id\":3,\"title\":\"The Alchemist\",\"author\":\"Paulo Coelho\",\"publisher\":\"HarperTorch\",\"published_date\":\"1988-04-15\",\"page_count\":208,\"language\":\"en\"},{\"id\":4,\"title\":\"To Kill a Mockingbird\",\"author\":\"Harper Lee\",\"publisher\":\"J.B. Lippincott & Co.\",\"published_date\":\"1960-07-11\",\"page_count\":281,\"language\":\"en\"},{\"id\":5,\"title\":\"1984\",\"author\":\"George Orwell\",\"publisher\":\"Secker & Warburg\",\"published_date\":\"1949-06-08\",\"page_count\":328,\"language\":\"en\"},{\"id\":6,\"title\":\"Pride and Prejudice\",\"author\":\"Jane Austen\",\"publisher\":\"T. Egerton, Whitehall\",\"published_date\":\"1813-01-28\",\"page_count\":279,\"language\":\"en\"}]\n"
     ]
    }
   ],
   "source": [
    "print(response.text)#The last insertion got added\n"
   ]
  },
  {
   "cell_type": "code",
   "execution_count": 22,
   "id": "14dce76e",
   "metadata": {},
   "outputs": [
    {
     "name": "stdout",
     "output_type": "stream",
     "text": [
      "{\"id\":1,\"title\":\"Harry Potter and the Philosopher's Stone\",\"author\":\"J.K. Rowling\",\"publisher\":\"Bloomsbury\",\"published_date\":\"1997-06-26\",\"page_count\":223,\"language\":\"en\"}\n"
     ]
    }
   ],
   "source": [
    "#Getting a particular book-details\n",
    "path = '/book/1'\n",
    "end_point = f\"{base_url}{path}\"\n",
    "response = requests.get(end_point)\n",
    "\n",
    "print(response.text)"
   ]
  },
  {
   "cell_type": "markdown",
   "id": "a28be93b",
   "metadata": {},
   "source": [
    "### Put Request"
   ]
  },
  {
   "cell_type": "code",
   "execution_count": 23,
   "id": "c023848a",
   "metadata": {},
   "outputs": [
    {
     "data": {
      "text/plain": [
       "'http://localhost:8000/book/1'"
      ]
     },
     "execution_count": 23,
     "metadata": {},
     "output_type": "execute_result"
    }
   ],
   "source": [
    "#Update \n",
    "\n",
    "end_point"
   ]
  },
  {
   "cell_type": "code",
   "execution_count": 27,
   "id": "0bf7ea81",
   "metadata": {},
   "outputs": [],
   "source": [
    "update_list = {\n",
    "    \"title\":\"Harry Potter and the Deathly Hollows\",\n",
    "    \"author\":\"J.K. Rowling\",\n",
    "    \"publisher\":\"Bloomsbury\",\n",
    "    \"published_date\":\"1997-06-26\",\n",
    "    \"page_count\":223,\n",
    "    \"language\":\"en\"\n",
    "}"
   ]
  },
  {
   "cell_type": "code",
   "execution_count": 28,
   "id": "0b9058c2",
   "metadata": {},
   "outputs": [],
   "source": [
    "response = requests.put(end_point, json= update_list)"
   ]
  },
  {
   "cell_type": "code",
   "execution_count": 29,
   "id": "8957d00d",
   "metadata": {},
   "outputs": [
    {
     "name": "stdout",
     "output_type": "stream",
     "text": [
      "{\"id\":1,\"title\":\"Harry Potter and the Deathly Hollows\",\"author\":\"J.K. Rowling\",\"publisher\":\"Bloomsbury\",\"published_date\":\"1997-06-26\",\"page_count\":223,\"language\":\"en\"}\n"
     ]
    }
   ],
   "source": [
    "print(response.text)"
   ]
  },
  {
   "cell_type": "code",
   "execution_count": null,
   "id": "1389233f",
   "metadata": {},
   "outputs": [],
   "source": []
  },
  {
   "cell_type": "markdown",
   "id": "913feee7",
   "metadata": {},
   "source": [
    "### DELETE"
   ]
  },
  {
   "cell_type": "code",
   "execution_count": 30,
   "id": "039573cf",
   "metadata": {},
   "outputs": [],
   "source": [
    "import requests"
   ]
  },
  {
   "cell_type": "code",
   "execution_count": 32,
   "id": "469b9d43",
   "metadata": {},
   "outputs": [
    {
     "data": {
      "text/plain": [
       "'http://localhost:8000/books'"
      ]
     },
     "execution_count": 32,
     "metadata": {},
     "output_type": "execute_result"
    }
   ],
   "source": [
    "base = 'http://localhost:8000'\n",
    "path = '/books'\n",
    "\n",
    "end_point = f\"{base}{path}\"\n",
    "end_point"
   ]
  },
  {
   "cell_type": "code",
   "execution_count": 38,
   "id": "9be98e54",
   "metadata": {},
   "outputs": [
    {
     "name": "stdout",
     "output_type": "stream",
     "text": [
      "{\"detail\":\"Book Not Found\"}\n"
     ]
    }
   ],
   "source": [
    "path = '/book/6'\n",
    "\n",
    "end_point = f\"{base}{path}\"\n",
    "\n",
    "r = requests.delete(end_point)\n",
    "\n",
    "print(r.text)"
   ]
  },
  {
   "cell_type": "code",
   "execution_count": 39,
   "id": "ba7657c1",
   "metadata": {},
   "outputs": [],
   "source": [
    "response = requests.get(\"http://localhost:8000/books\")"
   ]
  },
  {
   "cell_type": "code",
   "execution_count": 40,
   "id": "7e9feb66",
   "metadata": {},
   "outputs": [
    {
     "data": {
      "text/plain": [
       "'[{\"id\":1,\"title\":\"Harry Potter and the Philosopher\\'s Stone\",\"author\":\"J.K. Rowling\",\"publisher\":\"Bloomsbury\",\"published_date\":\"1997-06-26\",\"page_count\":223,\"language\":\"en\"},{\"id\":2,\"title\":\"The Hobbit\",\"author\":\"J.R.R. Tolkien\",\"publisher\":\"George Allen & Unwin\",\"published_date\":\"1937-09-21\",\"page_count\":310,\"language\":\"en\"},{\"id\":3,\"title\":\"The Alchemist\",\"author\":\"Paulo Coelho\",\"publisher\":\"HarperTorch\",\"published_date\":\"1988-04-15\",\"page_count\":208,\"language\":\"en\"},{\"id\":4,\"title\":\"To Kill a Mockingbird\",\"author\":\"Harper Lee\",\"publisher\":\"J.B. Lippincott & Co.\",\"published_date\":\"1960-07-11\",\"page_count\":281,\"language\":\"en\"},{\"id\":5,\"title\":\"1984\",\"author\":\"George Orwell\",\"publisher\":\"Secker & Warburg\",\"published_date\":\"1949-06-08\",\"page_count\":328,\"language\":\"en\"}]'"
      ]
     },
     "execution_count": 40,
     "metadata": {},
     "output_type": "execute_result"
    }
   ],
   "source": [
    "response.text"
   ]
  },
  {
   "cell_type": "code",
   "execution_count": null,
   "id": "57def53a",
   "metadata": {},
   "outputs": [],
   "source": []
  }
 ],
 "metadata": {
  "kernelspec": {
   "display_name": ".venv",
   "language": "python",
   "name": "python3"
  },
  "language_info": {
   "codemirror_mode": {
    "name": "ipython",
    "version": 3
   },
   "file_extension": ".py",
   "mimetype": "text/x-python",
   "name": "python",
   "nbconvert_exporter": "python",
   "pygments_lexer": "ipython3",
   "version": "3.10.0"
  }
 },
 "nbformat": 4,
 "nbformat_minor": 5
}
