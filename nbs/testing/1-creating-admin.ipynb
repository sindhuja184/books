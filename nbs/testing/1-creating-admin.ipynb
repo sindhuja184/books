{
 "cells": [
  {
   "cell_type": "code",
   "execution_count": 13,
   "id": "ad38d632",
   "metadata": {},
   "outputs": [],
   "source": [
    "import requests"
   ]
  },
  {
   "cell_type": "code",
   "execution_count": 14,
   "id": "2975b7a6",
   "metadata": {},
   "outputs": [],
   "source": [
    "url = 'http://localhost:8000/api/v1/auth/signup'"
   ]
  },
  {
   "cell_type": "code",
   "execution_count": 45,
   "id": "71116cb4",
   "metadata": {},
   "outputs": [],
   "source": [
    "data = {\n",
    "    \"username\":\"Sindhuja\",\n",
    "    \"email\": 'sindhujadidugu@gmail.com',\n",
    "    \"first_name\": \"Sindhuja\",\n",
    "    \"last_name\": \"Did\",\n",
    "    \"role\":\"admin\",\n",
    "    \"password\": \"Sindhuja\"\n",
    "}"
   ]
  },
  {
   "cell_type": "code",
   "execution_count": 46,
   "id": "cc0e17c5",
   "metadata": {},
   "outputs": [],
   "source": [
    "response = requests.post(url, json= data)"
   ]
  },
  {
   "cell_type": "code",
   "execution_count": 47,
   "id": "7190754d",
   "metadata": {},
   "outputs": [
    {
     "name": "stdout",
     "output_type": "stream",
     "text": [
      "{\"message\":\"Account Created!! Check email to verify your account\",\"user\":{\"uid\":\"f5f58a66-8d10-4a94-917f-2f422184ac53\",\"first_name\":\"Sindhuja\",\"role\":\"admin\",\"updated_at\":\"2025-05-17T01:15:41.512350\",\"username\":\"Sindhuja\",\"email\":\"sindhujadidugu@gmail.com\",\"last_name\":\"Did\",\"is_verified\":true,\"created_at\":\"2025-05-17T01:15:41.512350\"}}\n"
     ]
    }
   ],
   "source": [
    "print(response.text)"
   ]
  },
  {
   "cell_type": "code",
   "execution_count": null,
   "id": "a1377a99",
   "metadata": {},
   "outputs": [],
   "source": []
  }
 ],
 "metadata": {
  "kernelspec": {
   "display_name": ".venv",
   "language": "python",
   "name": "python3"
  },
  "language_info": {
   "codemirror_mode": {
    "name": "ipython",
    "version": 3
   },
   "file_extension": ".py",
   "mimetype": "text/x-python",
   "name": "python",
   "nbconvert_exporter": "python",
   "pygments_lexer": "ipython3",
   "version": "3.10.0"
  }
 },
 "nbformat": 4,
 "nbformat_minor": 5
}
