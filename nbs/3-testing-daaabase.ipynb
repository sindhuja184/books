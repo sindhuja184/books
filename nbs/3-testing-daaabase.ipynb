{
 "cells": [
  {
   "cell_type": "markdown",
   "id": "89ec4997",
   "metadata": {},
   "source": [
    "### Testing get_all_books method"
   ]
  },
  {
   "cell_type": "code",
   "execution_count": 19,
   "id": "b9a5b592",
   "metadata": {},
   "outputs": [
    {
     "name": "stdout",
     "output_type": "stream",
     "text": [
      "[]\n"
     ]
    }
   ],
   "source": [
    "import requests\n",
    "\n",
    "base = 'http://localhost:8000'\n",
    "path = '/api/v1/books'\n",
    "\n",
    "end_point = f\"{base}{path}\"\n",
    "\n",
    "response = requests.get(end_point)\n",
    "\n",
    "print(response.text)"
   ]
  },
  {
   "cell_type": "markdown",
   "id": "5668137e",
   "metadata": {},
   "source": [
    "### POST Request"
   ]
  },
  {
   "cell_type": "code",
   "execution_count": 27,
   "id": "e1fcd159",
   "metadata": {},
   "outputs": [
    {
     "name": "stdout",
     "output_type": "stream",
     "text": [
      "<Response [500]>\n"
     ]
    }
   ],
   "source": [
    "import requests\n",
    "\n",
    "# Define your data\n",
    "data = {\n",
    "    \"title\": \"The Catcher in the Rye\",\n",
    "    \"author\": \"J.D. Salinger\",\n",
    "    \"publisher\": \"Little, Brown and Company\",\n",
    "    \"published_date\": \"1951-07-16\",\n",
    "    \"page_count\": 277,\n",
    "    \"language\": \"en\"\n",
    "}\n",
    "\n",
    "# Define the endpoint\n",
    "url = 'http://127.0.0.1:8000/api/v1/books'\n",
    "\n",
    "# Send POST request\n",
    "response = requests.post(url, json=data)\n",
    "\n",
    "# Print the response\n",
    "print(response)\n"
   ]
  },
  {
   "cell_type": "code",
   "execution_count": 28,
   "id": "130f3fa8",
   "metadata": {},
   "outputs": [
    {
     "data": {
      "text/plain": [
       "'Internal Server Error'"
      ]
     },
     "execution_count": 28,
     "metadata": {},
     "output_type": "execute_result"
    }
   ],
   "source": [
    "response.text"
   ]
  },
  {
   "cell_type": "code",
   "execution_count": null,
   "id": "ba49d015",
   "metadata": {},
   "outputs": [],
   "source": [
    "\n"
   ]
  }
 ],
 "metadata": {
  "kernelspec": {
   "display_name": ".venv",
   "language": "python",
   "name": "python3"
  },
  "language_info": {
   "codemirror_mode": {
    "name": "ipython",
    "version": 3
   },
   "file_extension": ".py",
   "mimetype": "text/x-python",
   "name": "python",
   "nbconvert_exporter": "python",
   "pygments_lexer": "ipython3",
   "version": "3.10.0"
  }
 },
 "nbformat": 4,
 "nbformat_minor": 5
}
