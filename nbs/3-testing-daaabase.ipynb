{
 "cells": [
  {
   "cell_type": "markdown",
   "id": "89ec4997",
   "metadata": {},
   "source": [
    "### Testing get_all_books method"
   ]
  },
  {
   "cell_type": "code",
   "execution_count": 54,
   "id": "b9a5b592",
   "metadata": {},
   "outputs": [
    {
     "name": "stdout",
     "output_type": "stream",
     "text": [
      "[{\"uid\":\"21d026f0-5d06-4cb6-8d38-a6690c28d414\",\"title\":\"To Kill a Mockingbird\",\"author\":\"Harper Lee\",\"publisher\":\"J.B. Lippincott & Co.\",\"published_date\":\"1960-07-11\",\"page_count\":281,\"language\":\"en\",\"created_at\":\"2025-04-28T20:35:41.165753\",\"updated_at\":\"2025-04-28T20:35:41.165753\"},{\"uid\":\"7dfe2c65-bdca-4a77-8bbf-2b68a71d77c1\",\"title\":\"The Hobbit\",\"author\":\"J.R.R. Tolkien\",\"publisher\":\"George Allen & Unwin\",\"published_date\":\"1937-09-21\",\"page_count\":310,\"language\":\"en\",\"created_at\":\"2025-04-28T20:35:13.599586\",\"updated_at\":\"2025-04-28T20:35:13.599586\"},{\"uid\":\"2c8613f5-8916-4551-a561-04ed3d0fd5fe\",\"title\":\"The Hobbit\",\"author\":\"J.R.R. Tolkien\",\"publisher\":\"George Allen & Unwin\",\"published_date\":\"1937-09-21\",\"page_count\":310,\"language\":\"en\",\"created_at\":\"2025-04-28T20:35:12.807594\",\"updated_at\":\"2025-04-28T20:35:12.807594\"},{\"uid\":\"7d46771c-6c43-4b44-b7bf-aaf5af26270f\",\"title\":\"Harry Potter and the Philosopher's Stone\",\"author\":\"J.K. Rowling\",\"publisher\":\"Bloomsbury\",\"published_date\":\"1997-06-26\",\"page_count\":223,\"language\":\"en\",\"created_at\":\"2025-04-28T20:34:34.180591\",\"updated_at\":\"2025-04-28T20:34:34.180591\"},{\"uid\":\"db708f9f-36ca-428f-904a-f7c0e62e1a83\",\"title\":\"The Catcher in the Rye\",\"author\":\"J.D. Salinger\",\"publisher\":\"Little, Brown and Company\",\"published_date\":\"1951-07-16\",\"page_count\":277,\"language\":\"en\",\"created_at\":\"2025-04-28T19:53:12.464052\",\"updated_at\":\"2025-04-28T19:53:12.464052\"},{\"uid\":\"68fe1b5b-f7ba-4749-8f32-5db896047628\",\"title\":\"The Catcher in the Rye\",\"author\":\"J.D. Salinger\",\"publisher\":\"Little, Brown and Company\",\"published_date\":\"1951-07-16\",\"page_count\":277,\"language\":\"en\",\"created_at\":\"2025-04-28T19:49:40.207473\",\"updated_at\":\"2025-04-28T19:49:40.207473\"}]\n"
     ]
    }
   ],
   "source": [
    "import requests\n",
    "\n",
    "base = 'http://localhost:8000'\n",
    "path = '/api/v1/books'\n",
    "\n",
    "end_point = f\"{base}{path}\"\n",
    "\n",
    "response = requests.get(end_point)\n",
    "\n",
    "print(response.text)\n",
    "\n",
    "# Validation Fix: Pydantic validation errors were fixed by ensuring all fields are correctly passed when using Book.from_orm().\n",
    "\n",
    "# Fixed data model interaction: Improved how data is mapped between SQLAlchemy models and Pydantic models."
   ]
  },
  {
   "cell_type": "code",
   "execution_count": 55,
   "id": "429c8773",
   "metadata": {},
   "outputs": [
    {
     "data": {
      "text/plain": [
       "1715"
      ]
     },
     "execution_count": 55,
     "metadata": {},
     "output_type": "execute_result"
    }
   ],
   "source": [
    "\n",
    "len(response.text)"
   ]
  },
  {
   "cell_type": "markdown",
   "id": "5668137e",
   "metadata": {},
   "source": [
    "### POST Request"
   ]
  },
  {
   "cell_type": "code",
   "execution_count": 26,
   "id": "e1fcd159",
   "metadata": {},
   "outputs": [
    {
     "name": "stdout",
     "output_type": "stream",
     "text": [
      "<Response [201]>\n"
     ]
    }
   ],
   "source": [
    "import requests\n",
    "\n",
    "# Define your data\n",
    "data = {\n",
    "    \"title\": \"To Kill a Mockingbird\",\n",
    "    \"author\": \"Harper Lee\",\n",
    "    \"publisher\": \"J.B. Lippincott & Co.\",\n",
    "    \"published_date\": \"1960-07-11\",\n",
    "    \"page_count\": 281,\n",
    "    \"language\": \"en\"\n",
    "\n",
    "}\n",
    "\n",
    "# Define the endpoint\n",
    "url = 'http://127.0.0.1:8000/api/v1/books'\n",
    "\n",
    "# Send POST request\n",
    "response = requests.post(url, json=data)\n",
    "\n",
    "# Print the response\n",
    "print(response)\n"
   ]
  },
  {
   "cell_type": "code",
   "execution_count": 27,
   "id": "130f3fa8",
   "metadata": {},
   "outputs": [
    {
     "data": {
      "text/plain": [
       "'{\"title\":\"To Kill a Mockingbird\",\"author\":\"Harper Lee\",\"publisher\":\"J.B. Lippincott & Co.\",\"published_date\":\"1960-07-11T00:00:00\",\"page_count\":281,\"language\":\"en\",\"uid\":\"21d026f0-5d06-4cb6-8d38-a6690c28d414\",\"created_at\":\"2025-04-28T20:35:41.165753\",\"updated_at\":\"2025-04-28T20:35:41.165753\"}'"
      ]
     },
     "execution_count": 27,
     "metadata": {},
     "output_type": "execute_result"
    }
   ],
   "source": [
    "response.text"
   ]
  },
  {
   "cell_type": "code",
   "execution_count": null,
   "id": "ba49d015",
   "metadata": {},
   "outputs": [],
   "source": [
    "\n"
   ]
  },
  {
   "cell_type": "markdown",
   "id": "521cf879",
   "metadata": {},
   "source": [
    "### Get Book by ID"
   ]
  },
  {
   "cell_type": "code",
   "execution_count": 48,
   "id": "6457141a",
   "metadata": {},
   "outputs": [
    {
     "data": {
      "text/plain": [
       "'http://localhost:8000/api/v1/books/7d46771c-6c43-4b44-b7bf-aaf5af26270f'"
      ]
     },
     "execution_count": 48,
     "metadata": {},
     "output_type": "execute_result"
    }
   ],
   "source": [
    "#Error validation error came fixed\n",
    "import requests\n",
    "\n",
    "base = 'http://localhost:8000'\n",
    "path = '/api/v1/books/7d46771c-6c43-4b44-b7bf-aaf5af26270f'\n",
    "\n",
    "\n",
    "end_point = f\"{base}{path}\"\n",
    "end_point"
   ]
  },
  {
   "cell_type": "code",
   "execution_count": 49,
   "id": "a28f9f2f",
   "metadata": {},
   "outputs": [],
   "source": [
    "response = requests.get(end_point)"
   ]
  },
  {
   "cell_type": "code",
   "execution_count": 50,
   "id": "8b9e581f",
   "metadata": {},
   "outputs": [
    {
     "name": "stdout",
     "output_type": "stream",
     "text": [
      "{\"uid\":\"7d46771c-6c43-4b44-b7bf-aaf5af26270f\",\"title\":\"Harry Potter and the Philosopher's Stone\",\"author\":\"J.K. Rowling\",\"publisher\":\"Bloomsbury\",\"published_date\":\"1997-06-26\",\"page_count\":223,\"language\":\"en\",\"created_at\":\"2025-04-28T20:34:34.180591\",\"updated_at\":\"2025-04-28T20:34:34.180591\"}\n"
     ]
    }
   ],
   "source": [
    "print(response.text)"
   ]
  },
  {
   "cell_type": "code",
   "execution_count": null,
   "id": "efba83c0",
   "metadata": {},
   "outputs": [],
   "source": []
  },
  {
   "cell_type": "markdown",
   "id": "8ac08fd2",
   "metadata": {},
   "source": [
    "### Post Request"
   ]
  },
  {
   "cell_type": "code",
   "execution_count": 59,
   "id": "0bb963cd",
   "metadata": {},
   "outputs": [
    {
     "data": {
      "text/plain": [
       "'http://localhost:8000/api/v1/books/7d46771c-6c43-4b44-b7bf-aaf5af26270f'"
      ]
     },
     "execution_count": 59,
     "metadata": {},
     "output_type": "execute_result"
    }
   ],
   "source": [
    "import requests\n",
    "\n",
    "base = 'http://localhost:8000'\n",
    "path = '/api/v1/books/7d46771c-6c43-4b44-b7bf-aaf5af26270f'\n",
    "\n",
    "\n",
    "end_point = f\"{base}{path}\"\n",
    "end_point"
   ]
  },
  {
   "cell_type": "code",
   "execution_count": 60,
   "id": "ec2578f9",
   "metadata": {},
   "outputs": [],
   "source": [
    "reponse = requests.put(end_point, json = {\"title\":\"Harry Potter and the Deaathly Hollows\"})\n"
   ]
  },
  {
   "cell_type": "code",
   "execution_count": 61,
   "id": "c804c250",
   "metadata": {},
   "outputs": [
    {
     "name": "stdout",
     "output_type": "stream",
     "text": [
      "[{\"uid\":\"21d026f0-5d06-4cb6-8d38-a6690c28d414\",\"title\":\"To Kill a Mockingbird\",\"author\":\"Harper Lee\",\"publisher\":\"J.B. Lippincott & Co.\",\"published_date\":\"1960-07-11\",\"page_count\":281,\"language\":\"en\",\"created_at\":\"2025-04-28T20:35:41.165753\",\"updated_at\":\"2025-04-28T20:35:41.165753\"},{\"uid\":\"7dfe2c65-bdca-4a77-8bbf-2b68a71d77c1\",\"title\":\"The Hobbit\",\"author\":\"J.R.R. Tolkien\",\"publisher\":\"George Allen & Unwin\",\"published_date\":\"1937-09-21\",\"page_count\":310,\"language\":\"en\",\"created_at\":\"2025-04-28T20:35:13.599586\",\"updated_at\":\"2025-04-28T20:35:13.599586\"},{\"uid\":\"2c8613f5-8916-4551-a561-04ed3d0fd5fe\",\"title\":\"The Hobbit\",\"author\":\"J.R.R. Tolkien\",\"publisher\":\"George Allen & Unwin\",\"published_date\":\"1937-09-21\",\"page_count\":310,\"language\":\"en\",\"created_at\":\"2025-04-28T20:35:12.807594\",\"updated_at\":\"2025-04-28T20:35:12.807594\"},{\"uid\":\"7d46771c-6c43-4b44-b7bf-aaf5af26270f\",\"title\":\"Harry Potter and the Philosopher's Stone\",\"author\":\"J.K. Rowling\",\"publisher\":\"Bloomsbury\",\"published_date\":\"1997-06-26\",\"page_count\":223,\"language\":\"en\",\"created_at\":\"2025-04-28T20:34:34.180591\",\"updated_at\":\"2025-04-28T20:34:34.180591\"},{\"uid\":\"db708f9f-36ca-428f-904a-f7c0e62e1a83\",\"title\":\"The Catcher in the Rye\",\"author\":\"J.D. Salinger\",\"publisher\":\"Little, Brown and Company\",\"published_date\":\"1951-07-16\",\"page_count\":277,\"language\":\"en\",\"created_at\":\"2025-04-28T19:53:12.464052\",\"updated_at\":\"2025-04-28T19:53:12.464052\"},{\"uid\":\"68fe1b5b-f7ba-4749-8f32-5db896047628\",\"title\":\"The Catcher in the Rye\",\"author\":\"J.D. Salinger\",\"publisher\":\"Little, Brown and Company\",\"published_date\":\"1951-07-16\",\"page_count\":277,\"language\":\"en\",\"created_at\":\"2025-04-28T19:49:40.207473\",\"updated_at\":\"2025-04-28T19:49:40.207473\"}]\n"
     ]
    }
   ],
   "source": [
    "print(response.text)"
   ]
  },
  {
   "cell_type": "code",
   "execution_count": 62,
   "id": "067d4c8f",
   "metadata": {},
   "outputs": [],
   "source": [
    "#Did this directly from POSTMAN"
   ]
  },
  {
   "cell_type": "code",
   "execution_count": 63,
   "id": "a43fd740",
   "metadata": {},
   "outputs": [],
   "source": [
    "#Did delete and atch requests in POSTMAN"
   ]
  },
  {
   "cell_type": "code",
   "execution_count": null,
   "id": "cfe9c3d1",
   "metadata": {},
   "outputs": [],
   "source": []
  }
 ],
 "metadata": {
  "kernelspec": {
   "display_name": ".venv",
   "language": "python",
   "name": "python3"
  },
  "language_info": {
   "codemirror_mode": {
    "name": "ipython",
    "version": 3
   },
   "file_extension": ".py",
   "mimetype": "text/x-python",
   "name": "python",
   "nbconvert_exporter": "python",
   "pygments_lexer": "ipython3",
   "version": "3.10.0"
  }
 },
 "nbformat": 4,
 "nbformat_minor": 5
}
