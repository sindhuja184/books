{
 "cells": [
  {
   "cell_type": "code",
   "execution_count": 2,
   "id": "af7b4477",
   "metadata": {},
   "outputs": [],
   "source": [
    "import requests"
   ]
  },
  {
   "cell_type": "code",
   "execution_count": 3,
   "id": "1c7b85c0",
   "metadata": {},
   "outputs": [],
   "source": [
    "path  = 'http://127.0.0.1:8000/api/v1/auth/signup'"
   ]
  },
  {
   "cell_type": "code",
   "execution_count": 21,
   "id": "578c75fc",
   "metadata": {},
   "outputs": [],
   "source": [
    "data = {\n",
    "    \"first_name\" : \"April\",\n",
    "    \"last_name\": \"Fool\",\n",
    "    \"email\": \"aprilfool@mail.com\",\n",
    "    \"username\": \"fool\",\n",
    "    \"password\": \"iamfool\"\n",
    "\n",
    "}\n",
    "response = requests.post(path, json = data)"
   ]
  },
  {
   "cell_type": "code",
   "execution_count": 22,
   "id": "7576b491",
   "metadata": {},
   "outputs": [
    {
     "data": {
      "text/plain": [
       "'{\"detail\":\"User with the email already exists\"}'"
      ]
     },
     "execution_count": 22,
     "metadata": {},
     "output_type": "execute_result"
    }
   ],
   "source": [
    "response.text"
   ]
  },
  {
   "cell_type": "code",
   "execution_count": null,
   "id": "46d51621",
   "metadata": {},
   "outputs": [],
   "source": []
  }
 ],
 "metadata": {
  "kernelspec": {
   "display_name": ".venv",
   "language": "python",
   "name": "python3"
  },
  "language_info": {
   "codemirror_mode": {
    "name": "ipython",
    "version": 3
   },
   "file_extension": ".py",
   "mimetype": "text/x-python",
   "name": "python",
   "nbconvert_exporter": "python",
   "pygments_lexer": "ipython3",
   "version": "3.10.0"
  }
 },
 "nbformat": 4,
 "nbformat_minor": 5
}
