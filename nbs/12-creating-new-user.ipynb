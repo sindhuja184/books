{
 "cells": [
  {
   "cell_type": "code",
   "execution_count": 14,
   "id": "5d00ca7d",
   "metadata": {},
   "outputs": [],
   "source": [
    "import requests"
   ]
  },
  {
   "cell_type": "code",
   "execution_count": 18,
   "id": "fa675b6f",
   "metadata": {},
   "outputs": [],
   "source": [
    "base = \"http://localhost:8000\"\n",
    "path = \"/api/v1/auth/signup\"\n",
    "\n",
    "end_point = f\"{base}{path}\"\n"
   ]
  },
  {
   "cell_type": "code",
   "execution_count": 19,
   "id": "8ceb2a58",
   "metadata": {},
   "outputs": [],
   "source": [
    "data = {\n",
    "    \"username\": \"sample8\",\n",
    "    \"email\": \"sample8@gmail.com\",\n",
    "    \"first_name\": \"sam8\",\n",
    "    \"last_name\": \"ple8\",\n",
    "    \"password\": \"sample8\"\n",
    "}"
   ]
  },
  {
   "cell_type": "code",
   "execution_count": 17,
   "metadata": {},
   "outputs": [
    {
     "name": "stdout",
     "output_type": "stream",
     "text": [
      "{\"uid\":\"6d2a69f2-f2c0-4eb9-8015-6ea7f3d6be80\",\"username\":\"sample8\",\"email\":\"sample8@gmail.com\",\"first_name\":\"sam8\",\"last_name\":\"ple8\",\"is_verified\":false,\"created_at\":\"2025-05-12T21:41:14.637711\",\"updated_at\":\"2025-05-12T21:41:14.637711\",\"books\":[]}\n"
     ]
    }
   ],
   "source": [
    "response = requests.post(end_point,json = data)\n",
    "print(response.text)"
   ]
  },
  {
   "cell_type": "code",
   "execution_count": null,
   "id": "23183345",
   "metadata": {},
   "outputs": [],
   "source": []
  }
 ],
 "metadata": {
  "kernelspec": {
   "display_name": ".venv",
   "language": "python",
   "name": "python3"
  },
  "language_info": {
   "codemirror_mode": {
    "name": "ipython",
    "version": 3
   },
   "file_extension": ".py",
   "mimetype": "text/x-python",
   "name": "python",
   "nbconvert_exporter": "python",
   "pygments_lexer": "ipython3",
   "version": "3.10.0"
  }
 },
 "nbformat": 4,
 "nbformat_minor": 5
}
