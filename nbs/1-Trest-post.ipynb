{
 "cells": [
  {
   "cell_type": "code",
   "execution_count": 5,
   "id": "b9714c59",
   "metadata": {},
   "outputs": [
    {
     "name": "stdout",
     "output_type": "stream",
     "text": [
      "{\"title\":\"Harry Potter\",\"author\":\"JK Rowling\"}\n"
     ]
    }
   ],
   "source": [
    "import requests\n",
    "\n",
    "base_url = 'http://localhost:8000'\n",
    "path = '/create_book'\n",
    "\n",
    "end_point = f\"{base_url}{path}\"\n",
    "\n",
    "response = requests.post( \n",
    "    url=end_point,\n",
    "    json={\"title\": \"Harry Potter\", \"author\": \"JK Rowling\"}\n",
    ")\n",
    "\n",
    "print(response.text)\n"
   ]
  },
  {
   "cell_type": "code",
   "execution_count": null,
   "id": "35c7b3f3",
   "metadata": {},
   "outputs": [],
   "source": []
  }
 ],
 "metadata": {
  "kernelspec": {
   "display_name": ".venv",
   "language": "python",
   "name": "python3"
  },
  "language_info": {
   "codemirror_mode": {
    "name": "ipython",
    "version": 3
   },
   "file_extension": ".py",
   "mimetype": "text/x-python",
   "name": "python",
   "nbconvert_exporter": "python",
   "pygments_lexer": "ipython3",
   "version": "3.10.0"
  }
 },
 "nbformat": 4,
 "nbformat_minor": 5
}
