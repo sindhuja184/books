{
 "cells": [
  {
   "cell_type": "code",
   "execution_count": 19,
   "id": "daf1bf37",
   "metadata": {},
   "outputs": [],
   "source": [
    "import requests\n",
    "\n"
   ]
  },
  {
   "cell_type": "code",
   "execution_count": 20,
   "id": "98cb161c",
   "metadata": {},
   "outputs": [],
   "source": [
    "end_point = 'http://localhost:8000/api/v1/recommend/2a287c68-5de0-4e7d-8263-ba6086ea9f5e'"
   ]
  },
  {
   "cell_type": "code",
   "execution_count": 21,
   "id": "74e8ebaf",
   "metadata": {},
   "outputs": [],
   "source": [
    "response = requests.get(end_point)"
   ]
  },
  {
   "cell_type": "code",
   "execution_count": 22,
   "id": "64d3ca73",
   "metadata": {},
   "outputs": [
    {
     "name": "stdout",
     "output_type": "stream",
     "text": [
      "\"<think>\\nOkay, so I need to figure out five books similar to \\\"The Alchemist\\\" by Paulo Coelho. Let me start by recalling what \\\"The Alchemist\\\" is about. It's a novel that follows Santiago, an ex-sailor who seeks fortune and wisdom on the Spanish islands. Along the way, he meets various characters offering him different life lessons and choices.\\n\\nFirst, I should think about the themes in \\\"The Alchemist.\\\" The main themes seem to be self-discovery, following one's heart, making decisions that change your life, and finding meaning in a journey rather than in material possessions. These are pretty broad, so other books might touch on similar ideas but from different angles or with different settings.\\n\\nLet me think of some books I know that have these themes. \\\"The Lies of Locke Lamora\\\" by Scott Lynch comes to mind because it's about a young man's quest to become a knight, which involves making important life choices and facing significant challenges. That seems similar enough.\\n\\nNext, \\\"The Hound of the Btowns\\\" by Walter Jonson is another one. It's about a girl who leaves her town to find her own path in life, so that touches on self-discovery and personal journey, much like Santiago's adventure.\\n\\n\\\"The Name of the Wind\\\" by Patrick Rothfuss also fits because it's a fantasy novel where the main character goes on a pilgrimage-like quest to find meaning. That involves personal growth and making difficult decisions, similar to \\\"The Alchemist.\\\"\\n\\nI should think about more fiction books first before moving into non-fiction. \\\"The Art of Fielding\\\" by Chad Harbach is a coming-of-age story set in baseball, but it's also about finding your identity and growing through challenges, which ties into the themes.\\n\\nLastly, \\\"The Last Letter of corsica\\\" by Isidore Dybbek is based on real letters between two people from different cultures. It deals with understanding others' lives and choices, which relates to self-discovery and cultural journeys.\\n\\nI need to make sure these books are distinct enough but still share the core themes. Let me double-check each one:\\n\\n1. \\\"The Lies of Locke Lamora\\\" – definitely about making big life decisions.\\n2. \\\"The Hound of the Btowns\\\" – focuses on leaving behind a past and finding oneself.\\n3. \\\"The Name of the Wind\\\" – pilgrimage and personal quest for meaning.\\n4. \\\"The Art of Fielding\\\" – personal growth through sports.\\n5. \\\"The Last Letter of corsica\\\" – cultural understanding through letters.\\n\\nThese all seem to touch on similar themes without being exact clones, so I think they are good examples. Now, I'll write them out with brief reasons for each similarity in a JSON format as requested.\\n</think>\\n\\n```json\\n{\\n  \\\"The Lies of Locke Lamora\\\": \\\"Explores a young man's quest to become a knight, involving significant life choices and challenges.\\\",\\n  \\\"The Hound of the Btowns\\\": \\\"A story about a girl leaving her town to find her own path in life, touching on self-discovery and personal journey.\\\",\\n  \\\"The Name of the Wind\\\": \\\"A fantasy novel where a character embarks on a pilgrimage-like quest for meaning and personal growth.\\\",\\n  \\\"The Art of Fielding\\\": \\\"A coming-of-age story set in baseball that focuses on identity and overcoming challenges through growth.\\\",\\n  \\\"The Last Letter of corsica\\\": \\\"Based on real letters between two people from different cultures, dealing with understanding others' lives.\\\"\\n}\\n```\"\n"
     ]
    }
   ],
   "source": [
    "print(response.text)"
   ]
  },
  {
   "cell_type": "code",
   "execution_count": null,
   "id": "bf4e3fc1",
   "metadata": {},
   "outputs": [],
   "source": []
  }
 ],
 "metadata": {
  "kernelspec": {
   "display_name": ".venv",
   "language": "python",
   "name": "python3"
  },
  "language_info": {
   "codemirror_mode": {
    "name": "ipython",
    "version": 3
   },
   "file_extension": ".py",
   "mimetype": "text/x-python",
   "name": "python",
   "nbconvert_exporter": "python",
   "pygments_lexer": "ipython3",
   "version": "3.10.0"
  }
 },
 "nbformat": 4,
 "nbformat_minor": 5
}
